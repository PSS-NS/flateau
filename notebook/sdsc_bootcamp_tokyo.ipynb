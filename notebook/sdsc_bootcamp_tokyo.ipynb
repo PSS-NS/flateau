{
  "nbformat": 4,
  "nbformat_minor": 0,
  "metadata": {
    "colab": {
      "provenance": [],
      "authorship_tag": "ABX9TyP9+oT5Q43/mIpIHz8sBhQb",
      "include_colab_link": true
    },
    "kernelspec": {
      "name": "python3",
      "display_name": "Python 3"
    },
    "language_info": {
      "name": "python"
    },
    "widgets": {
      "application/vnd.jupyter.widget-state+json": {
        "99ddb84004bf42c49a7ce6418842f94f": {
          "model_module": "@jupyter-widgets/controls",
          "model_name": "FloatProgressModel",
          "model_module_version": "1.5.0",
          "state": {
            "_dom_classes": [],
            "_model_module": "@jupyter-widgets/controls",
            "_model_module_version": "1.5.0",
            "_model_name": "FloatProgressModel",
            "_view_count": null,
            "_view_module": "@jupyter-widgets/controls",
            "_view_module_version": "1.5.0",
            "_view_name": "ProgressView",
            "bar_style": "",
            "description": "",
            "description_tooltip": null,
            "layout": "IPY_MODEL_1447ee9383f8486dbf44b118c89a31b1",
            "max": 100,
            "min": 0,
            "orientation": "horizontal",
            "style": "IPY_MODEL_2c9e6a61ea5248d89a8c079b41730118",
            "value": 100
          }
        },
        "1447ee9383f8486dbf44b118c89a31b1": {
          "model_module": "@jupyter-widgets/base",
          "model_name": "LayoutModel",
          "model_module_version": "1.2.0",
          "state": {
            "_model_module": "@jupyter-widgets/base",
            "_model_module_version": "1.2.0",
            "_model_name": "LayoutModel",
            "_view_count": null,
            "_view_module": "@jupyter-widgets/base",
            "_view_module_version": "1.2.0",
            "_view_name": "LayoutView",
            "align_content": null,
            "align_items": null,
            "align_self": null,
            "border": null,
            "bottom": null,
            "display": null,
            "flex": null,
            "flex_flow": null,
            "grid_area": null,
            "grid_auto_columns": null,
            "grid_auto_flow": null,
            "grid_auto_rows": null,
            "grid_column": null,
            "grid_gap": null,
            "grid_row": null,
            "grid_template_areas": null,
            "grid_template_columns": null,
            "grid_template_rows": null,
            "height": null,
            "justify_content": null,
            "justify_items": null,
            "left": null,
            "margin": null,
            "max_height": null,
            "max_width": null,
            "min_height": null,
            "min_width": null,
            "object_fit": null,
            "object_position": null,
            "order": null,
            "overflow": null,
            "overflow_x": null,
            "overflow_y": null,
            "padding": null,
            "right": null,
            "top": null,
            "visibility": null,
            "width": "auto"
          }
        },
        "2c9e6a61ea5248d89a8c079b41730118": {
          "model_module": "@jupyter-widgets/controls",
          "model_name": "ProgressStyleModel",
          "model_module_version": "1.5.0",
          "state": {
            "_model_module": "@jupyter-widgets/controls",
            "_model_module_version": "1.5.0",
            "_model_name": "ProgressStyleModel",
            "_view_count": null,
            "_view_module": "@jupyter-widgets/base",
            "_view_module_version": "1.2.0",
            "_view_name": "StyleView",
            "bar_color": "black",
            "description_width": ""
          }
        },
        "46bb408d00234605bace1dfe2fdd5330": {
          "model_module": "@jupyter-widgets/controls",
          "model_name": "FloatProgressModel",
          "model_module_version": "1.5.0",
          "state": {
            "_dom_classes": [],
            "_model_module": "@jupyter-widgets/controls",
            "_model_module_version": "1.5.0",
            "_model_name": "FloatProgressModel",
            "_view_count": null,
            "_view_module": "@jupyter-widgets/controls",
            "_view_module_version": "1.5.0",
            "_view_name": "ProgressView",
            "bar_style": "",
            "description": "",
            "description_tooltip": null,
            "layout": "IPY_MODEL_021ca73e422748c9b4c3cc95483ac269",
            "max": 100,
            "min": 0,
            "orientation": "horizontal",
            "style": "IPY_MODEL_8532853534c442caa9b53a2b007ae4d0",
            "value": 100
          }
        },
        "021ca73e422748c9b4c3cc95483ac269": {
          "model_module": "@jupyter-widgets/base",
          "model_name": "LayoutModel",
          "model_module_version": "1.2.0",
          "state": {
            "_model_module": "@jupyter-widgets/base",
            "_model_module_version": "1.2.0",
            "_model_name": "LayoutModel",
            "_view_count": null,
            "_view_module": "@jupyter-widgets/base",
            "_view_module_version": "1.2.0",
            "_view_name": "LayoutView",
            "align_content": null,
            "align_items": null,
            "align_self": null,
            "border": null,
            "bottom": null,
            "display": null,
            "flex": null,
            "flex_flow": null,
            "grid_area": null,
            "grid_auto_columns": null,
            "grid_auto_flow": null,
            "grid_auto_rows": null,
            "grid_column": null,
            "grid_gap": null,
            "grid_row": null,
            "grid_template_areas": null,
            "grid_template_columns": null,
            "grid_template_rows": null,
            "height": null,
            "justify_content": null,
            "justify_items": null,
            "left": null,
            "margin": null,
            "max_height": null,
            "max_width": null,
            "min_height": null,
            "min_width": null,
            "object_fit": null,
            "object_position": null,
            "order": null,
            "overflow": null,
            "overflow_x": null,
            "overflow_y": null,
            "padding": null,
            "right": null,
            "top": null,
            "visibility": null,
            "width": "auto"
          }
        },
        "8532853534c442caa9b53a2b007ae4d0": {
          "model_module": "@jupyter-widgets/controls",
          "model_name": "ProgressStyleModel",
          "model_module_version": "1.5.0",
          "state": {
            "_model_module": "@jupyter-widgets/controls",
            "_model_module_version": "1.5.0",
            "_model_name": "ProgressStyleModel",
            "_view_count": null,
            "_view_module": "@jupyter-widgets/base",
            "_view_module_version": "1.2.0",
            "_view_name": "StyleView",
            "bar_color": "black",
            "description_width": ""
          }
        },
        "496de7274af441c8ba59925993482a16": {
          "model_module": "@jupyter-widgets/controls",
          "model_name": "FloatProgressModel",
          "model_module_version": "1.5.0",
          "state": {
            "_dom_classes": [],
            "_model_module": "@jupyter-widgets/controls",
            "_model_module_version": "1.5.0",
            "_model_name": "FloatProgressModel",
            "_view_count": null,
            "_view_module": "@jupyter-widgets/controls",
            "_view_module_version": "1.5.0",
            "_view_name": "ProgressView",
            "bar_style": "",
            "description": "",
            "description_tooltip": null,
            "layout": "IPY_MODEL_a0b427e24d2e452483bb2ef49cdbb84a",
            "max": 100,
            "min": 0,
            "orientation": "horizontal",
            "style": "IPY_MODEL_8ee73919124d4b1dbb97fa9ed36eca65",
            "value": 100
          }
        },
        "a0b427e24d2e452483bb2ef49cdbb84a": {
          "model_module": "@jupyter-widgets/base",
          "model_name": "LayoutModel",
          "model_module_version": "1.2.0",
          "state": {
            "_model_module": "@jupyter-widgets/base",
            "_model_module_version": "1.2.0",
            "_model_name": "LayoutModel",
            "_view_count": null,
            "_view_module": "@jupyter-widgets/base",
            "_view_module_version": "1.2.0",
            "_view_name": "LayoutView",
            "align_content": null,
            "align_items": null,
            "align_self": null,
            "border": null,
            "bottom": null,
            "display": null,
            "flex": null,
            "flex_flow": null,
            "grid_area": null,
            "grid_auto_columns": null,
            "grid_auto_flow": null,
            "grid_auto_rows": null,
            "grid_column": null,
            "grid_gap": null,
            "grid_row": null,
            "grid_template_areas": null,
            "grid_template_columns": null,
            "grid_template_rows": null,
            "height": null,
            "justify_content": null,
            "justify_items": null,
            "left": null,
            "margin": null,
            "max_height": null,
            "max_width": null,
            "min_height": null,
            "min_width": null,
            "object_fit": null,
            "object_position": null,
            "order": null,
            "overflow": null,
            "overflow_x": null,
            "overflow_y": null,
            "padding": null,
            "right": null,
            "top": null,
            "visibility": null,
            "width": "auto"
          }
        },
        "8ee73919124d4b1dbb97fa9ed36eca65": {
          "model_module": "@jupyter-widgets/controls",
          "model_name": "ProgressStyleModel",
          "model_module_version": "1.5.0",
          "state": {
            "_model_module": "@jupyter-widgets/controls",
            "_model_module_version": "1.5.0",
            "_model_name": "ProgressStyleModel",
            "_view_count": null,
            "_view_module": "@jupyter-widgets/base",
            "_view_module_version": "1.2.0",
            "_view_name": "StyleView",
            "bar_color": "black",
            "description_width": ""
          }
        },
        "e988c2f2fc61437fa1ca46a23921f9a4": {
          "model_module": "@jupyter-widgets/controls",
          "model_name": "FloatProgressModel",
          "model_module_version": "1.5.0",
          "state": {
            "_dom_classes": [],
            "_model_module": "@jupyter-widgets/controls",
            "_model_module_version": "1.5.0",
            "_model_name": "FloatProgressModel",
            "_view_count": null,
            "_view_module": "@jupyter-widgets/controls",
            "_view_module_version": "1.5.0",
            "_view_name": "ProgressView",
            "bar_style": "",
            "description": "",
            "description_tooltip": null,
            "layout": "IPY_MODEL_32f71bcfe4e14b2c83b5cc1f904b169b",
            "max": 100,
            "min": 0,
            "orientation": "horizontal",
            "style": "IPY_MODEL_b9f2973f6ace4390826e5a9a2b75a18e",
            "value": 100
          }
        },
        "32f71bcfe4e14b2c83b5cc1f904b169b": {
          "model_module": "@jupyter-widgets/base",
          "model_name": "LayoutModel",
          "model_module_version": "1.2.0",
          "state": {
            "_model_module": "@jupyter-widgets/base",
            "_model_module_version": "1.2.0",
            "_model_name": "LayoutModel",
            "_view_count": null,
            "_view_module": "@jupyter-widgets/base",
            "_view_module_version": "1.2.0",
            "_view_name": "LayoutView",
            "align_content": null,
            "align_items": null,
            "align_self": null,
            "border": null,
            "bottom": null,
            "display": null,
            "flex": null,
            "flex_flow": null,
            "grid_area": null,
            "grid_auto_columns": null,
            "grid_auto_flow": null,
            "grid_auto_rows": null,
            "grid_column": null,
            "grid_gap": null,
            "grid_row": null,
            "grid_template_areas": null,
            "grid_template_columns": null,
            "grid_template_rows": null,
            "height": null,
            "justify_content": null,
            "justify_items": null,
            "left": null,
            "margin": null,
            "max_height": null,
            "max_width": null,
            "min_height": null,
            "min_width": null,
            "object_fit": null,
            "object_position": null,
            "order": null,
            "overflow": null,
            "overflow_x": null,
            "overflow_y": null,
            "padding": null,
            "right": null,
            "top": null,
            "visibility": null,
            "width": "auto"
          }
        },
        "b9f2973f6ace4390826e5a9a2b75a18e": {
          "model_module": "@jupyter-widgets/controls",
          "model_name": "ProgressStyleModel",
          "model_module_version": "1.5.0",
          "state": {
            "_model_module": "@jupyter-widgets/controls",
            "_model_module_version": "1.5.0",
            "_model_name": "ProgressStyleModel",
            "_view_count": null,
            "_view_module": "@jupyter-widgets/base",
            "_view_module_version": "1.2.0",
            "_view_name": "StyleView",
            "bar_color": "black",
            "description_width": ""
          }
        }
      }
    }
  },
  "cells": [
    {
      "cell_type": "markdown",
      "metadata": {
        "id": "view-in-github",
        "colab_type": "text"
      },
      "source": [
        "<a href=\"https://colab.research.google.com/github/pacificspatial/flateau/blob/main/notebook/sdsc_bootcamp_tokyo.ipynb\" target=\"_parent\"><img src=\"https://colab.research.google.com/assets/colab-badge.svg\" alt=\"Open In Colab\"/></a>"
      ]
    },
    {
      "cell_type": "markdown",
      "source": [
        "# DuckDB を使った Plateauデータの解析ハンズオン！"
      ],
      "metadata": {
        "id": "v8imYsbBnoWu"
      }
    },
    {
      "cell_type": "code",
      "source": [
        "# Duckdb is already in Colab!\n",
        "import duckdb\n",
        "import pandas as pd\n",
        "import geopandas as gpd"
      ],
      "metadata": {
        "id": "CZe9XJILrqvo"
      },
      "execution_count": 1,
      "outputs": []
    },
    {
      "cell_type": "markdown",
      "source": [
        "## DuckDBが動くかテスト"
      ],
      "metadata": {
        "id": "iUe5JQqGn0ul"
      }
    },
    {
      "cell_type": "code",
      "source": [
        "# simple sql with an in-memory database\n",
        "duckdb.sql('SELECT 42').show()"
      ],
      "metadata": {
        "colab": {
          "base_uri": "https://localhost:8080/"
        },
        "id": "dZnKHDiur0On",
        "outputId": "584b5d65-9297-4b1c-fce5-bae25d9d2415"
      },
      "execution_count": 2,
      "outputs": [
        {
          "output_type": "stream",
          "name": "stdout",
          "text": [
            "┌───────┐\n",
            "│  42   │\n",
            "│ int32 │\n",
            "├───────┤\n",
            "│    42 │\n",
            "└───────┘\n",
            "\n"
          ]
        }
      ]
    },
    {
      "cell_type": "code",
      "source": [
        "# check relation\n",
        "r1 = duckdb.sql('SELECT 42 AS i')\n",
        "duckdb.sql('SELECT i * 2 AS k FROM r1').show()"
      ],
      "metadata": {
        "colab": {
          "base_uri": "https://localhost:8080/"
        },
        "id": "2ra5jT7HsCqW",
        "outputId": "bb651a47-c6a4-4c4b-c7e5-5767e370352c"
      },
      "execution_count": 3,
      "outputs": [
        {
          "output_type": "stream",
          "name": "stdout",
          "text": [
            "┌───────┐\n",
            "│   k   │\n",
            "│ int32 │\n",
            "├───────┤\n",
            "│    84 │\n",
            "└───────┘\n",
            "\n"
          ]
        }
      ]
    },
    {
      "cell_type": "markdown",
      "source": [
        "## Extension を確認"
      ],
      "metadata": {
        "id": "50qkTzHpoJq8"
      }
    },
    {
      "cell_type": "code",
      "source": [
        "#con = duckdb.connect(database=\":memory:\", read_only=False, config={\"allow_unsigned_extensions\": \"true\"});\n",
        "#con.execute('select * from duckdb_extensions()').fetch_df()\n",
        "duckdb.sql('select * from duckdb_extensions()')"
      ],
      "metadata": {
        "id": "T-EOjlLosVu9",
        "colab": {
          "base_uri": "https://localhost:8080/"
        },
        "outputId": "3448f5f9-3d11-42ad-c738-b68a5c33c43b"
      },
      "execution_count": 53,
      "outputs": [
        {
          "output_type": "execute_result",
          "data": {
            "text/plain": [
              "┌──────────────────┬─────────┬───────────┬──────────────────────┬──────────────────────────────────┬───────────────────┐\n",
              "│  extension_name  │ loaded  │ installed │     install_path     │           description            │      aliases      │\n",
              "│     varchar      │ boolean │  boolean  │       varchar        │             varchar              │     varchar[]     │\n",
              "├──────────────────┼─────────┼───────────┼──────────────────────┼──────────────────────────────────┼───────────────────┤\n",
              "│ autocomplete     │ false   │ false     │                      │ Add supports for autocomplete …  │ []                │\n",
              "│ fts              │ true    │ true      │ (BUILT-IN)           │ Adds support for Full-Text Sea…  │ []                │\n",
              "│ httpfs           │ true    │ true      │ /root/.duckdb/exte…  │ Adds support for reading and w…  │ [http, https, s3] │\n",
              "│ icu              │ true    │ true      │ (BUILT-IN)           │ Adds support for time zones an…  │ []                │\n",
              "│ inet             │ false   │ false     │                      │ Adds support for IP-related da…  │ []                │\n",
              "│ jemalloc         │ true    │ true      │ (BUILT-IN)           │ Overwrites system allocator wi…  │ []                │\n",
              "│ json             │ true    │ true      │ (BUILT-IN)           │ Adds support for JSON operations │ []                │\n",
              "│ motherduck       │ false   │ false     │                      │ Enables motherduck integration…  │ [md]              │\n",
              "│ parquet          │ true    │ true      │ (BUILT-IN)           │ Adds support for reading and w…  │ []                │\n",
              "│ postgres_scanner │ false   │ false     │                      │ Adds support for reading from …  │ [postgres]        │\n",
              "│ spatial          │ true    │ true      │ /root/.duckdb/exte…  │ Geospatial extension that adds…  │ []                │\n",
              "│ sqlite_scanner   │ false   │ false     │                      │ Adds support for reading SQLit…  │ [sqlite, sqlite3] │\n",
              "│ tpcds            │ true    │ true      │ (BUILT-IN)           │ Adds TPC-DS data generation an…  │ []                │\n",
              "│ tpch             │ true    │ true      │ (BUILT-IN)           │ Adds TPC-H data generation and…  │ []                │\n",
              "├──────────────────┴─────────┴───────────┴──────────────────────┴──────────────────────────────────┴───────────────────┤\n",
              "│ 14 rows                                                                                                    6 columns │\n",
              "└──────────────────────────────────────────────────────────────────────────────────────────────────────────────────────┘"
            ]
          },
          "metadata": {},
          "execution_count": 53
        }
      ]
    },
    {
      "cell_type": "markdown",
      "source": [
        "## Extensionをインストールして読み込む"
      ],
      "metadata": {
        "id": "GhsHhrdkoSZf"
      }
    },
    {
      "cell_type": "code",
      "source": [
        "duckdb.sql(\"INSTALL 'httpfs'\");\n",
        "duckdb.sql(\"INSTALL 'spatial'\");\n",
        "\n",
        "duckdb.sql('LOAD httpfs')\n",
        "duckdb.sql('LOAD spatial')"
      ],
      "metadata": {
        "id": "Sz5C5wLgsvTE"
      },
      "execution_count": 23,
      "outputs": []
    },
    {
      "cell_type": "markdown",
      "source": [
        "## Geometryを取り扱えるか確認"
      ],
      "metadata": {
        "id": "beUninwloZJh"
      }
    },
    {
      "cell_type": "code",
      "source": [
        "duckdb.sql('SELECT ST_POINT(0,0)')"
      ],
      "metadata": {
        "id": "UM_lFPQCumf2",
        "outputId": "34e171a8-d64d-4791-b373-dfd8cc8f1c21",
        "colab": {
          "base_uri": "https://localhost:8080/"
        }
      },
      "execution_count": 25,
      "outputs": [
        {
          "output_type": "execute_result",
          "data": {
            "text/plain": [
              "┌────────────────┐\n",
              "│ st_point(0, 0) │\n",
              "│    geometry    │\n",
              "├────────────────┤\n",
              "│ POINT (0 0)    │\n",
              "└────────────────┘"
            ]
          },
          "metadata": {},
          "execution_count": 25
        }
      ]
    },
    {
      "cell_type": "markdown",
      "source": [
        "## 今回使うデータのリスト\n",
        "-- https://flateau.s3.ap-northeast-1.amazonaws.com/data/plateau/tokyo23/2022/buildings/tokyo23_2022_buildings_centroid.parquet\n",
        "\n",
        "-- https://flateau.s3.ap-northeast-1.amazonaws.com/data/plateau/tokyo23/2022/buildings/tokyo23_2022_buildings_polygon.parquet\n",
        "\n",
        "-- https://flateau.s3.ap-northeast-1.amazonaws.com/data/topography/tokyo23_elevation_h3lvl10.parquet\n",
        "\n",
        "-- https://flateau.s3.ap-northeast-1.amazonaws.com/data/topography/tokyo23_slope_h3lvl10.parquet\n"
      ],
      "metadata": {
        "id": "2GYQbeKtg2fR"
      }
    },
    {
      "cell_type": "markdown",
      "source": [
        "## まずデータを読み込む"
      ],
      "metadata": {
        "id": "TJhFBUmjoi9M"
      }
    },
    {
      "cell_type": "code",
      "source": [
        "duckdb.sql(\"drop table if exists building_centroid;\")\n",
        "duckdb.sql(\"create table building_centroid as select h3index10, cal_zmin_m, cal_height_m, ST_GeomFromWKB(geom) as geom from 'https://flateau.s3.ap-northeast-1.amazonaws.com/data/plateau/tokyo23/2022/buildings/tokyo23_2022_buildings_centroid.parquet' \")"
      ],
      "metadata": {
        "id": "u4iY_Btl7qJu",
        "colab": {
          "base_uri": "https://localhost:8080/",
          "height": 49,
          "referenced_widgets": [
            "99ddb84004bf42c49a7ce6418842f94f",
            "1447ee9383f8486dbf44b118c89a31b1",
            "2c9e6a61ea5248d89a8c079b41730118"
          ]
        },
        "outputId": "281357a6-725d-40e5-83bf-a39958ff5fc5"
      },
      "execution_count": 33,
      "outputs": [
        {
          "output_type": "display_data",
          "data": {
            "text/plain": [
              "FloatProgress(value=0.0, layout=Layout(width='auto'), style=ProgressStyle(bar_color='black'))"
            ],
            "application/vnd.jupyter.widget-view+json": {
              "version_major": 2,
              "version_minor": 0,
              "model_id": "99ddb84004bf42c49a7ce6418842f94f"
            }
          },
          "metadata": {}
        }
      ]
    },
    {
      "cell_type": "code",
      "source": [
        "duckdb.sql(\"drop table if exists building_polygon\")\n",
        "duckdb.sql(\"create table building_polygon as select h3index10, cal_zmin_m, cal_height_m, ST_GeomFromWKB(geometry) as geom from 'https://flateau.s3.ap-northeast-1.amazonaws.com/data/plateau/tokyo23/2022/buildings/tokyo23_2022_buildings_polygon.parquet' \")"
      ],
      "metadata": {
        "colab": {
          "base_uri": "https://localhost:8080/",
          "height": 49,
          "referenced_widgets": [
            "46bb408d00234605bace1dfe2fdd5330",
            "021ca73e422748c9b4c3cc95483ac269",
            "8532853534c442caa9b53a2b007ae4d0"
          ]
        },
        "id": "UmeA1NkyR1W1",
        "outputId": "a734cabb-0355-4dd8-f80b-cb2cbb2931b5"
      },
      "execution_count": 36,
      "outputs": [
        {
          "output_type": "display_data",
          "data": {
            "text/plain": [
              "FloatProgress(value=0.0, layout=Layout(width='auto'), style=ProgressStyle(bar_color='black'))"
            ],
            "application/vnd.jupyter.widget-view+json": {
              "version_major": 2,
              "version_minor": 0,
              "model_id": "46bb408d00234605bace1dfe2fdd5330"
            }
          },
          "metadata": {}
        }
      ]
    },
    {
      "cell_type": "code",
      "source": [
        "duckdb.sql(\"drop table if exists elevation\")\n",
        "duckdb.sql(\"create table elevation as select h3index10, ST_GeomFromWKB(geometry) as geom from 'https://flateau.s3.ap-northeast-1.amazonaws.com/data/topography/tokyo23_elevation_h3lvl10.parquet'\")\n"
      ],
      "metadata": {
        "colab": {
          "base_uri": "https://localhost:8080/",
          "height": 49,
          "referenced_widgets": [
            "496de7274af441c8ba59925993482a16",
            "a0b427e24d2e452483bb2ef49cdbb84a",
            "8ee73919124d4b1dbb97fa9ed36eca65"
          ]
        },
        "id": "3qf2qktAijNi",
        "outputId": "f5e62ca6-aff1-4b3e-be2d-4a57aa071e58"
      },
      "execution_count": 42,
      "outputs": [
        {
          "output_type": "display_data",
          "data": {
            "text/plain": [
              "FloatProgress(value=0.0, layout=Layout(width='auto'), style=ProgressStyle(bar_color='black'))"
            ],
            "application/vnd.jupyter.widget-view+json": {
              "version_major": 2,
              "version_minor": 0,
              "model_id": "496de7274af441c8ba59925993482a16"
            }
          },
          "metadata": {}
        }
      ]
    },
    {
      "cell_type": "code",
      "source": [
        "duckdb.sql(\"drop table if exists slope\")\n",
        "duckdb.sql(\"create table slope as select h3index10, val_max, val_mean, val_median, val_mode, ST_GeomFromWKB(geometry) as geom from 'https://flateau.s3.ap-northeast-1.amazonaws.com/data/topography/tokyo23_slope_h3lvl10.parquet'\")\n"
      ],
      "metadata": {
        "colab": {
          "base_uri": "https://localhost:8080/",
          "height": 49,
          "referenced_widgets": [
            "e988c2f2fc61437fa1ca46a23921f9a4",
            "32f71bcfe4e14b2c83b5cc1f904b169b",
            "b9f2973f6ace4390826e5a9a2b75a18e"
          ]
        },
        "id": "A5EYbKGJii3P",
        "outputId": "ae6662a9-9e52-461e-b208-a982108f9376"
      },
      "execution_count": 45,
      "outputs": [
        {
          "output_type": "display_data",
          "data": {
            "text/plain": [
              "FloatProgress(value=0.0, layout=Layout(width='auto'), style=ProgressStyle(bar_color='black'))"
            ],
            "application/vnd.jupyter.widget-view+json": {
              "version_major": 2,
              "version_minor": 0,
              "model_id": "e988c2f2fc61437fa1ca46a23921f9a4"
            }
          },
          "metadata": {}
        }
      ]
    },
    {
      "cell_type": "code",
      "source": [
        "duckdb.sql('select t1.h3index10, t1.geom, t2.val_max from building_polygon t1, slope t2 where t1.h3index10 = t2.h3index10 order by val_max desc limit 10')"
      ],
      "metadata": {
        "colab": {
          "base_uri": "https://localhost:8080/"
        },
        "id": "lR4H7yimRjVk",
        "outputId": "29495455-7b95-41ed-ef02-3aa638346bd6"
      },
      "execution_count": 47,
      "outputs": [
        {
          "output_type": "execute_result",
          "data": {
            "text/plain": [
              "┌────────────────────┬─────────────────────────────────────────────────────────────────────────────┬───────────────────┐\n",
              "│     h3index10      │                                    geom                                     │      val_max      │\n",
              "│       uint64       │                                  geometry                                   │      double       │\n",
              "├────────────────────┼─────────────────────────────────────────────────────────────────────────────┼───────────────────┤\n",
              "│ 622329812660912127 │ POLYGON ((139.74449723500115 35.66740033892029, 139.74445959311024 35.667…  │ 55.72602844238281 │\n",
              "│ 622329812660912127 │ POLYGON ((139.74477272466495 35.66700668755646, 139.7444687328894 35.6665…  │ 55.72602844238281 │\n",
              "│ 622329812660912127 │ POLYGON ((139.74373599923877 35.667795773549145, 139.74374646925907 35.66…  │ 55.72602844238281 │\n",
              "│ 622329812692303871 │ POLYGON ((139.73544700956978 35.680677084621124, 139.73511680749166 35.68…  │  55.2908935546875 │\n",
              "│ 622329812692303871 │ POLYGON ((139.73580890583366 35.680788968095044, 139.73577300668083 35.68…  │  55.2908935546875 │\n",
              "│ 622329812692303871 │ POLYGON ((139.7354584125557 35.68135502165914, 139.7354110025311 35.68134…  │  55.2908935546875 │\n",
              "│ 622329812692303871 │ POLYGON ((139.7353527062444 35.68089154153501, 139.73481658669579 35.6807…  │  55.2908935546875 │\n",
              "│ 622329812684537855 │ POLYGON ((139.7350585133398 35.682212506652135, 139.73521659902863 35.682…  │ 53.70713424682617 │\n",
              "│ 622329812684537855 │ POLYGON ((139.73506109955068 35.68152694287386, 139.7348111354457 35.6814…  │ 53.70713424682617 │\n",
              "│ 622329812684537855 │ POLYGON ((139.73494014067333 35.68236102806157, 139.7349354429326 35.6823…  │ 53.70713424682617 │\n",
              "├────────────────────┴─────────────────────────────────────────────────────────────────────────────┴───────────────────┤\n",
              "│ 10 rows                                                                                                    3 columns │\n",
              "└──────────────────────────────────────────────────────────────────────────────────────────────────────────────────────┘"
            ]
          },
          "metadata": {},
          "execution_count": 47
        }
      ]
    },
    {
      "cell_type": "markdown",
      "source": [
        "## クエリの結果をGeoJSONで出力"
      ],
      "metadata": {
        "id": "lPeHtlm3sEIc"
      }
    },
    {
      "cell_type": "code",
      "source": [
        "duckdb.sql(\"copy (select t1.geom, t2.val_max from building_polygon t1, slope t2 where t1.h3index10 = t2.h3index10 order by val_max desc limit 10) to 'test.geojson' with (format gdal, driver 'GeoJSON', LAYER_CREATION_OPTIONS 'WRITE_BBOX=YES')\")\n"
      ],
      "metadata": {
        "id": "b58FIIG6Rw9r"
      },
      "execution_count": 51,
      "outputs": []
    },
    {
      "cell_type": "code",
      "source": [],
      "metadata": {
        "id": "SYkNODIGmbjt"
      },
      "execution_count": null,
      "outputs": []
    }
  ]
}