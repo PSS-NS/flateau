{
  "nbformat": 4,
  "nbformat_minor": 0,
  "metadata": {
    "colab": {
      "provenance": [],
      "authorship_tag": "ABX9TyOuoyqKdKS+nqXl0mVMxsIB",
      "include_colab_link": true
    },
    "kernelspec": {
      "name": "python3",
      "display_name": "Python 3"
    },
    "language_info": {
      "name": "python"
    }
  },
  "cells": [
    {
      "cell_type": "markdown",
      "metadata": {
        "id": "view-in-github",
        "colab_type": "text"
      },
      "source": [
        "<a href=\"https://colab.research.google.com/github/pacificspatial/flateau/blob/main/notebook/sdsc_bootcamp_tokyo.ipynb\" target=\"_parent\"><img src=\"https://colab.research.google.com/assets/colab-badge.svg\" alt=\"Open In Colab\"/></a>"
      ]
    },
    {
      "cell_type": "code",
      "source": [
        "# Duckdb is already in Colab!\n",
        "import duckdb"
      ],
      "metadata": {
        "colab": {
          "base_uri": "https://localhost:8080/"
        },
        "id": "CZe9XJILrqvo",
        "outputId": "1043fb31-581e-4b46-ad72-ba04fb726f1c"
      },
      "execution_count": 3,
      "outputs": [
        {
          "output_type": "stream",
          "name": "stdout",
          "text": [
            "[(42,)]\n"
          ]
        }
      ]
    },
    {
      "cell_type": "code",
      "source": [
        "# simple sql with an in-memory database\n",
        "duckdb.sql('SELECT 42').show()"
      ],
      "metadata": {
        "colab": {
          "base_uri": "https://localhost:8080/"
        },
        "id": "dZnKHDiur0On",
        "outputId": "1aadea53-2a4c-44bd-db14-5ac5755004d8"
      },
      "execution_count": 4,
      "outputs": [
        {
          "output_type": "stream",
          "name": "stdout",
          "text": [
            "┌───────┐\n",
            "│  42   │\n",
            "│ int32 │\n",
            "├───────┤\n",
            "│    42 │\n",
            "└───────┘\n",
            "\n"
          ]
        }
      ]
    },
    {
      "cell_type": "code",
      "source": [
        "# check relation\n",
        "r1 = duckdb.sql('SELECT 42 AS i')\n",
        "duckdb.sql('SELECT i * 2 AS k FROM r1').show()"
      ],
      "metadata": {
        "colab": {
          "base_uri": "https://localhost:8080/"
        },
        "id": "2ra5jT7HsCqW",
        "outputId": "0445773f-c7bc-48be-a4fe-c5f5d9fcd8d5"
      },
      "execution_count": 6,
      "outputs": [
        {
          "output_type": "stream",
          "name": "stdout",
          "text": [
            "┌───────┐\n",
            "│   k   │\n",
            "│ int32 │\n",
            "├───────┤\n",
            "│    84 │\n",
            "└───────┘\n",
            "\n"
          ]
        }
      ]
    },
    {
      "cell_type": "code",
      "source": [
        "con = duckdb.connect(database=\":memory:\", read_only=False, config={\"allow_unsigned_extensions\": \"true\"});"
      ],
      "metadata": {
        "id": "T-EOjlLosVu9"
      },
      "execution_count": 32,
      "outputs": []
    },
    {
      "cell_type": "code",
      "source": [
        "con.execute(\"INSTALL 'httpfs';\");"
      ],
      "metadata": {
        "id": "Sz5C5wLgsvTE"
      },
      "execution_count": 33,
      "outputs": []
    },
    {
      "cell_type": "code",
      "source": [
        "con.execute(\"INSTALL 'httpfs';\");"
      ],
      "metadata": {
        "id": "W0Tn65r7tG3D"
      },
      "execution_count": 34,
      "outputs": []
    },
    {
      "cell_type": "code",
      "source": [
        "duckdb.sql('LOAD httpfs')"
      ],
      "metadata": {
        "id": "eXJcHaDRufvH"
      },
      "execution_count": 46,
      "outputs": []
    },
    {
      "cell_type": "code",
      "source": [
        "duckdb.sql('LOAD spatial')"
      ],
      "metadata": {
        "id": "UM_lFPQCumf2"
      },
      "execution_count": 36,
      "outputs": []
    },
    {
      "cell_type": "code",
      "source": [
        "duckdb.sql('SELECT ST_POINT(0,0)')"
      ],
      "metadata": {
        "colab": {
          "base_uri": "https://localhost:8080/"
        },
        "id": "rhLoJVLKuo9n",
        "outputId": "d544bf17-a67d-441f-d183-48852ff3acc8"
      },
      "execution_count": 47,
      "outputs": [
        {
          "output_type": "execute_result",
          "data": {
            "text/plain": [
              "┌────────────────┐\n",
              "│ st_point(0, 0) │\n",
              "│    geometry    │\n",
              "├────────────────┤\n",
              "│ POINT (0 0)    │\n",
              "└────────────────┘"
            ]
          },
          "metadata": {},
          "execution_count": 47
        }
      ]
    },
    {
      "cell_type": "code",
      "source": [
        "duckdb.sql('select * from duckdb_extensions()')"
      ],
      "metadata": {
        "colab": {
          "base_uri": "https://localhost:8080/"
        },
        "id": "dXGicM4CuvDF",
        "outputId": "08b8e3b0-9722-4105-cb2b-3a2b82194f86"
      },
      "execution_count": 49,
      "outputs": [
        {
          "output_type": "execute_result",
          "data": {
            "text/plain": [
              "┌──────────────────┬─────────┬───────────┬──────────────────────┬──────────────────────────────────┬───────────────────┐\n",
              "│  extension_name  │ loaded  │ installed │     install_path     │           description            │      aliases      │\n",
              "│     varchar      │ boolean │  boolean  │       varchar        │             varchar              │     varchar[]     │\n",
              "├──────────────────┼─────────┼───────────┼──────────────────────┼──────────────────────────────────┼───────────────────┤\n",
              "│ autocomplete     │ false   │ false     │                      │ Add supports for autocomplete …  │ []                │\n",
              "│ fts              │ true    │ true      │ (BUILT-IN)           │ Adds support for Full-Text Sea…  │ []                │\n",
              "│ h3               │ false   │ false     │ /root/.duckdb/exte…  │                                  │ []                │\n",
              "│ httpfs           │ true    │ true      │ /root/.duckdb/exte…  │ Adds support for reading and w…  │ [http, https, s3] │\n",
              "│ icu              │ true    │ true      │ (BUILT-IN)           │ Adds support for time zones an…  │ []                │\n",
              "│ inet             │ false   │ false     │                      │ Adds support for IP-related da…  │ []                │\n",
              "│ jemalloc         │ true    │ true      │ (BUILT-IN)           │ Overwrites system allocator wi…  │ []                │\n",
              "│ json             │ true    │ true      │ (BUILT-IN)           │ Adds support for JSON operations │ []                │\n",
              "│ motherduck       │ false   │ false     │                      │ Enables motherduck integration…  │ [md]              │\n",
              "│ parquet          │ true    │ true      │ (BUILT-IN)           │ Adds support for reading and w…  │ []                │\n",
              "│ postgres_scanner │ false   │ false     │                      │ Adds support for reading from …  │ [postgres]        │\n",
              "│ spatial          │ true    │ true      │ /root/.duckdb/exte…  │ Geospatial extension that adds…  │ []                │\n",
              "│ sqlite_scanner   │ false   │ false     │                      │ Adds support for reading SQLit…  │ [sqlite, sqlite3] │\n",
              "│ tpcds            │ true    │ true      │ (BUILT-IN)           │ Adds TPC-DS data generation an…  │ []                │\n",
              "│ tpch             │ true    │ true      │ (BUILT-IN)           │ Adds TPC-H data generation and…  │ []                │\n",
              "├──────────────────┴─────────┴───────────┴──────────────────────┴──────────────────────────────────┴───────────────────┤\n",
              "│ 15 rows                                                                                                    6 columns │\n",
              "└──────────────────────────────────────────────────────────────────────────────────────────────────────────────────────┘"
            ]
          },
          "metadata": {},
          "execution_count": 49
        }
      ]
    },
    {
      "cell_type": "code",
      "source": [
        "!wget https://github.com/pacificspatial/flateau/raw/main/extensions/h3.duckdb_extension"
      ],
      "metadata": {
        "colab": {
          "base_uri": "https://localhost:8080/"
        },
        "id": "o5nsDu2su53u",
        "outputId": "74de1439-4c58-40b4-b467-d7b7442ad021"
      },
      "execution_count": 39,
      "outputs": [
        {
          "output_type": "stream",
          "name": "stdout",
          "text": [
            "--2023-09-15 21:56:31--  https://github.com/pacificspatial/flateau/raw/main/extensions/h3.duckdb_extension\n",
            "Resolving github.com (github.com)... 192.30.255.112\n",
            "Connecting to github.com (github.com)|192.30.255.112|:443... connected.\n",
            "HTTP request sent, awaiting response... 302 Found\n",
            "Location: https://raw.githubusercontent.com/pacificspatial/flateau/main/extensions/h3.duckdb_extension [following]\n",
            "--2023-09-15 21:56:31--  https://raw.githubusercontent.com/pacificspatial/flateau/main/extensions/h3.duckdb_extension\n",
            "Resolving raw.githubusercontent.com (raw.githubusercontent.com)... 185.199.108.133, 185.199.109.133, 185.199.110.133, ...\n",
            "Connecting to raw.githubusercontent.com (raw.githubusercontent.com)|185.199.108.133|:443... connected.\n",
            "HTTP request sent, awaiting response... 200 OK\n",
            "Length: 433760 (424K) [application/octet-stream]\n",
            "Saving to: ‘h3.duckdb_extension.1’\n",
            "\n",
            "h3.duckdb_extension 100%[===================>] 423.59K  --.-KB/s    in 0.02s   \n",
            "\n",
            "2023-09-15 21:56:31 (16.7 MB/s) - ‘h3.duckdb_extension.1’ saved [433760/433760]\n",
            "\n"
          ]
        }
      ]
    },
    {
      "cell_type": "code",
      "source": [
        "con.execute(\"INSTALL 'h3.duckdb_extension'\");"
      ],
      "metadata": {
        "id": "YQWmBqOkyYoL"
      },
      "execution_count": 50,
      "outputs": []
    },
    {
      "cell_type": "code",
      "source": [
        "con.execute('LOAD h3;')"
      ],
      "metadata": {
        "colab": {
          "base_uri": "https://localhost:8080/",
          "height": 194
        },
        "id": "mvIVlG6Kz9Bu",
        "outputId": "3fd8b3d3-3188-4052-e365-48482c254cb9"
      },
      "execution_count": 51,
      "outputs": [
        {
          "output_type": "error",
          "ename": "IOException",
          "evalue": "ignored",
          "traceback": [
            "\u001b[0;31m---------------------------------------------------------------------------\u001b[0m",
            "\u001b[0;31mIOException\u001b[0m                               Traceback (most recent call last)",
            "\u001b[0;32m<ipython-input-51-4f9d4f2ee0fe>\u001b[0m in \u001b[0;36m<cell line: 1>\u001b[0;34m()\u001b[0m\n\u001b[0;32m----> 1\u001b[0;31m \u001b[0mcon\u001b[0m\u001b[0;34m.\u001b[0m\u001b[0mexecute\u001b[0m\u001b[0;34m(\u001b[0m\u001b[0;34m'LOAD h3;'\u001b[0m\u001b[0;34m)\u001b[0m\u001b[0;34m\u001b[0m\u001b[0;34m\u001b[0m\u001b[0m\n\u001b[0m",
            "\u001b[0;31mIOException\u001b[0m: IO Error: Extension \"/root/.duckdb/extensions/v0.8.1/linux_amd64_gcc4/h3.duckdb_extension\" could not be loaded: /root/.duckdb/extensions/v0.8.1/linux_amd64_gcc4/h3.duckdb_extension: invalid ELF header"
          ]
        }
      ]
    },
    {
      "cell_type": "code",
      "source": [],
      "metadata": {
        "id": "ukUcn6Pg1SW6"
      },
      "execution_count": null,
      "outputs": []
    }
  ]
}