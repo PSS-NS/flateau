{
  "nbformat": 4,
  "nbformat_minor": 0,
  "metadata": {
    "colab": {
      "provenance": [],
      "authorship_tag": "ABX9TyPBlLf5QZNVB486NmGxPv3P",
      "include_colab_link": true
    },
    "kernelspec": {
      "name": "python3",
      "display_name": "Python 3"
    },
    "language_info": {
      "name": "python"
    }
  },
  "cells": [
    {
      "cell_type": "markdown",
      "metadata": {
        "id": "view-in-github",
        "colab_type": "text"
      },
      "source": [
        "<a href=\"https://colab.research.google.com/github/pacificspatial/flateau/blob/main/notebook/sdsc_bootcamp_tokyo.ipynb\" target=\"_parent\"><img src=\"https://colab.research.google.com/assets/colab-badge.svg\" alt=\"Open In Colab\"/></a>"
      ]
    },
    {
      "cell_type": "code",
      "source": [
        "!pip install --quiet duckdb\n",
        "!pip install --quiet jupysql\n",
        "!pip install --quiet duckdb-engine\n",
        "!pip install --quiet pandas\n",
        "!pip install --quiet matplotlib"
      ],
      "metadata": {
        "id": "cWjljSND8_Sl"
      },
      "execution_count": 79,
      "outputs": []
    },
    {
      "cell_type": "code",
      "source": [
        "# Duckdb is already in Colab!\n",
        "import duckdb\n",
        "import pandas as pd\n",
        "import geopandas as gpd"
      ],
      "metadata": {
        "id": "CZe9XJILrqvo"
      },
      "execution_count": 80,
      "outputs": []
    },
    {
      "cell_type": "code",
      "source": [
        "# Import jupysql Jupyter extension to create SQL cells\n",
        "%load_ext sql"
      ],
      "metadata": {
        "id": "A6vn5G308ZHA",
        "outputId": "65b8c328-8a6f-40d7-fbf9-2999efc41f42",
        "colab": {
          "base_uri": "https://localhost:8080/"
        }
      },
      "execution_count": 81,
      "outputs": [
        {
          "output_type": "stream",
          "name": "stdout",
          "text": [
            "The sql extension is already loaded. To reload it, use:\n",
            "  %reload_ext sql\n"
          ]
        }
      ]
    },
    {
      "cell_type": "code",
      "source": [
        "%config SqlMagic.autopandas = True\n",
        "%config SqlMagic.feedback = False\n",
        "%config SqlMagic.displaycon = False"
      ],
      "metadata": {
        "id": "XAlIQNat8d_s"
      },
      "execution_count": 83,
      "outputs": []
    },
    {
      "cell_type": "code",
      "source": [
        "%sql duckdb:///:memory:\n",
        "# %sql duckdb:///path/to/file.db"
      ],
      "metadata": {
        "id": "v0jnLe_Q8kLB"
      },
      "execution_count": 84,
      "outputs": []
    },
    {
      "cell_type": "code",
      "source": [
        "%sql SELECT 42 as tmp"
      ],
      "metadata": {
        "id": "gz2hFmN29KwE",
        "outputId": "0ae1a40b-2f3e-4555-d629-0946b6c32ca6",
        "colab": {
          "base_uri": "https://localhost:8080/",
          "height": 53
        }
      },
      "execution_count": 85,
      "outputs": [
        {
          "output_type": "execute_result",
          "data": {
            "text/plain": [
              "Empty DataFrame\n",
              "Columns: []\n",
              "Index: []"
            ],
            "text/html": [
              "\n",
              "  <div id=\"df-3f5fab8c-2ec4-4109-bed4-2a0739cdce03\" class=\"colab-df-container\">\n",
              "    <div>\n",
              "<style scoped>\n",
              "    .dataframe tbody tr th:only-of-type {\n",
              "        vertical-align: middle;\n",
              "    }\n",
              "\n",
              "    .dataframe tbody tr th {\n",
              "        vertical-align: top;\n",
              "    }\n",
              "\n",
              "    .dataframe thead th {\n",
              "        text-align: right;\n",
              "    }\n",
              "</style>\n",
              "<table border=\"1\" class=\"dataframe\">\n",
              "  <thead>\n",
              "    <tr style=\"text-align: right;\">\n",
              "      <th></th>\n",
              "    </tr>\n",
              "  </thead>\n",
              "  <tbody>\n",
              "  </tbody>\n",
              "</table>\n",
              "</div>\n",
              "    <div class=\"colab-df-buttons\">\n",
              "\n",
              "  <div class=\"colab-df-container\">\n",
              "    <button class=\"colab-df-convert\" onclick=\"convertToInteractive('df-3f5fab8c-2ec4-4109-bed4-2a0739cdce03')\"\n",
              "            title=\"Convert this dataframe to an interactive table.\"\n",
              "            style=\"display:none;\">\n",
              "\n",
              "  <svg xmlns=\"http://www.w3.org/2000/svg\" height=\"24px\" viewBox=\"0 -960 960 960\">\n",
              "    <path d=\"M120-120v-720h720v720H120Zm60-500h600v-160H180v160Zm220 220h160v-160H400v160Zm0 220h160v-160H400v160ZM180-400h160v-160H180v160Zm440 0h160v-160H620v160ZM180-180h160v-160H180v160Zm440 0h160v-160H620v160Z\"/>\n",
              "  </svg>\n",
              "    </button>\n",
              "\n",
              "  <style>\n",
              "    .colab-df-container {\n",
              "      display:flex;\n",
              "      gap: 12px;\n",
              "    }\n",
              "\n",
              "    .colab-df-convert {\n",
              "      background-color: #E8F0FE;\n",
              "      border: none;\n",
              "      border-radius: 50%;\n",
              "      cursor: pointer;\n",
              "      display: none;\n",
              "      fill: #1967D2;\n",
              "      height: 32px;\n",
              "      padding: 0 0 0 0;\n",
              "      width: 32px;\n",
              "    }\n",
              "\n",
              "    .colab-df-convert:hover {\n",
              "      background-color: #E2EBFA;\n",
              "      box-shadow: 0px 1px 2px rgba(60, 64, 67, 0.3), 0px 1px 3px 1px rgba(60, 64, 67, 0.15);\n",
              "      fill: #174EA6;\n",
              "    }\n",
              "\n",
              "    .colab-df-buttons div {\n",
              "      margin-bottom: 4px;\n",
              "    }\n",
              "\n",
              "    [theme=dark] .colab-df-convert {\n",
              "      background-color: #3B4455;\n",
              "      fill: #D2E3FC;\n",
              "    }\n",
              "\n",
              "    [theme=dark] .colab-df-convert:hover {\n",
              "      background-color: #434B5C;\n",
              "      box-shadow: 0px 1px 3px 1px rgba(0, 0, 0, 0.15);\n",
              "      filter: drop-shadow(0px 1px 2px rgba(0, 0, 0, 0.3));\n",
              "      fill: #FFFFFF;\n",
              "    }\n",
              "  </style>\n",
              "\n",
              "    <script>\n",
              "      const buttonEl =\n",
              "        document.querySelector('#df-3f5fab8c-2ec4-4109-bed4-2a0739cdce03 button.colab-df-convert');\n",
              "      buttonEl.style.display =\n",
              "        google.colab.kernel.accessAllowed ? 'block' : 'none';\n",
              "\n",
              "      async function convertToInteractive(key) {\n",
              "        const element = document.querySelector('#df-3f5fab8c-2ec4-4109-bed4-2a0739cdce03');\n",
              "        const dataTable =\n",
              "          await google.colab.kernel.invokeFunction('convertToInteractive',\n",
              "                                                    [key], {});\n",
              "        if (!dataTable) return;\n",
              "\n",
              "        const docLinkHtml = 'Like what you see? Visit the ' +\n",
              "          '<a target=\"_blank\" href=https://colab.research.google.com/notebooks/data_table.ipynb>data table notebook</a>'\n",
              "          + ' to learn more about interactive tables.';\n",
              "        element.innerHTML = '';\n",
              "        dataTable['output_type'] = 'display_data';\n",
              "        await google.colab.output.renderOutput(dataTable, element);\n",
              "        const docLink = document.createElement('div');\n",
              "        docLink.innerHTML = docLinkHtml;\n",
              "        element.appendChild(docLink);\n",
              "      }\n",
              "    </script>\n",
              "  </div>\n",
              "\n",
              "    </div>\n",
              "  </div>\n"
            ]
          },
          "metadata": {},
          "execution_count": 85
        }
      ]
    },
    {
      "cell_type": "code",
      "source": [
        "%sql SELECT * FROM duckdb_functions()\n",
        "\n"
      ],
      "metadata": {
        "id": "aDPk1OlJ-FM7",
        "outputId": "cf592352-8149-4b6d-fc30-bc885db244df",
        "colab": {
          "base_uri": "https://localhost:8080/",
          "height": 88
        }
      },
      "execution_count": 77,
      "outputs": [
        {
          "output_type": "stream",
          "name": "stdout",
          "text": [
            " * duckdb:///:memory:\n",
            "Done.\n"
          ]
        },
        {
          "output_type": "execute_result",
          "data": {
            "text/plain": [
              "Empty DataFrame\n",
              "Columns: []\n",
              "Index: []"
            ],
            "text/html": [
              "\n",
              "  <div id=\"df-dab009d2-3634-480d-8e63-11a214ae11ac\" class=\"colab-df-container\">\n",
              "    <div>\n",
              "<style scoped>\n",
              "    .dataframe tbody tr th:only-of-type {\n",
              "        vertical-align: middle;\n",
              "    }\n",
              "\n",
              "    .dataframe tbody tr th {\n",
              "        vertical-align: top;\n",
              "    }\n",
              "\n",
              "    .dataframe thead th {\n",
              "        text-align: right;\n",
              "    }\n",
              "</style>\n",
              "<table border=\"1\" class=\"dataframe\">\n",
              "  <thead>\n",
              "    <tr style=\"text-align: right;\">\n",
              "      <th></th>\n",
              "    </tr>\n",
              "  </thead>\n",
              "  <tbody>\n",
              "  </tbody>\n",
              "</table>\n",
              "</div>\n",
              "    <div class=\"colab-df-buttons\">\n",
              "\n",
              "  <div class=\"colab-df-container\">\n",
              "    <button class=\"colab-df-convert\" onclick=\"convertToInteractive('df-dab009d2-3634-480d-8e63-11a214ae11ac')\"\n",
              "            title=\"Convert this dataframe to an interactive table.\"\n",
              "            style=\"display:none;\">\n",
              "\n",
              "  <svg xmlns=\"http://www.w3.org/2000/svg\" height=\"24px\" viewBox=\"0 -960 960 960\">\n",
              "    <path d=\"M120-120v-720h720v720H120Zm60-500h600v-160H180v160Zm220 220h160v-160H400v160Zm0 220h160v-160H400v160ZM180-400h160v-160H180v160Zm440 0h160v-160H620v160ZM180-180h160v-160H180v160Zm440 0h160v-160H620v160Z\"/>\n",
              "  </svg>\n",
              "    </button>\n",
              "\n",
              "  <style>\n",
              "    .colab-df-container {\n",
              "      display:flex;\n",
              "      gap: 12px;\n",
              "    }\n",
              "\n",
              "    .colab-df-convert {\n",
              "      background-color: #E8F0FE;\n",
              "      border: none;\n",
              "      border-radius: 50%;\n",
              "      cursor: pointer;\n",
              "      display: none;\n",
              "      fill: #1967D2;\n",
              "      height: 32px;\n",
              "      padding: 0 0 0 0;\n",
              "      width: 32px;\n",
              "    }\n",
              "\n",
              "    .colab-df-convert:hover {\n",
              "      background-color: #E2EBFA;\n",
              "      box-shadow: 0px 1px 2px rgba(60, 64, 67, 0.3), 0px 1px 3px 1px rgba(60, 64, 67, 0.15);\n",
              "      fill: #174EA6;\n",
              "    }\n",
              "\n",
              "    .colab-df-buttons div {\n",
              "      margin-bottom: 4px;\n",
              "    }\n",
              "\n",
              "    [theme=dark] .colab-df-convert {\n",
              "      background-color: #3B4455;\n",
              "      fill: #D2E3FC;\n",
              "    }\n",
              "\n",
              "    [theme=dark] .colab-df-convert:hover {\n",
              "      background-color: #434B5C;\n",
              "      box-shadow: 0px 1px 3px 1px rgba(0, 0, 0, 0.15);\n",
              "      filter: drop-shadow(0px 1px 2px rgba(0, 0, 0, 0.3));\n",
              "      fill: #FFFFFF;\n",
              "    }\n",
              "  </style>\n",
              "\n",
              "    <script>\n",
              "      const buttonEl =\n",
              "        document.querySelector('#df-dab009d2-3634-480d-8e63-11a214ae11ac button.colab-df-convert');\n",
              "      buttonEl.style.display =\n",
              "        google.colab.kernel.accessAllowed ? 'block' : 'none';\n",
              "\n",
              "      async function convertToInteractive(key) {\n",
              "        const element = document.querySelector('#df-dab009d2-3634-480d-8e63-11a214ae11ac');\n",
              "        const dataTable =\n",
              "          await google.colab.kernel.invokeFunction('convertToInteractive',\n",
              "                                                    [key], {});\n",
              "        if (!dataTable) return;\n",
              "\n",
              "        const docLinkHtml = 'Like what you see? Visit the ' +\n",
              "          '<a target=\"_blank\" href=https://colab.research.google.com/notebooks/data_table.ipynb>data table notebook</a>'\n",
              "          + ' to learn more about interactive tables.';\n",
              "        element.innerHTML = '';\n",
              "        dataTable['output_type'] = 'display_data';\n",
              "        await google.colab.output.renderOutput(dataTable, element);\n",
              "        const docLink = document.createElement('div');\n",
              "        docLink.innerHTML = docLinkHtml;\n",
              "        element.appendChild(docLink);\n",
              "      }\n",
              "    </script>\n",
              "  </div>\n",
              "\n",
              "    </div>\n",
              "  </div>\n"
            ]
          },
          "metadata": {},
          "execution_count": 77
        }
      ]
    },
    {
      "cell_type": "code",
      "source": [
        "# simple sql with an in-memory database\n",
        "duckdb.sql('SELECT 42').show()"
      ],
      "metadata": {
        "colab": {
          "base_uri": "https://localhost:8080/"
        },
        "id": "dZnKHDiur0On",
        "outputId": "ebf93e4f-8a6c-4b90-b2be-823e6c68fdfd"
      },
      "execution_count": 58,
      "outputs": [
        {
          "output_type": "stream",
          "name": "stdout",
          "text": [
            "┌───────┐\n",
            "│  42   │\n",
            "│ int32 │\n",
            "├───────┤\n",
            "│    42 │\n",
            "└───────┘\n",
            "\n"
          ]
        }
      ]
    },
    {
      "cell_type": "code",
      "source": [
        "# check relation\n",
        "r1 = duckdb.sql('SELECT 42 AS i')\n",
        "duckdb.sql('SELECT i * 2 AS k FROM r1').show()"
      ],
      "metadata": {
        "colab": {
          "base_uri": "https://localhost:8080/"
        },
        "id": "2ra5jT7HsCqW",
        "outputId": "4246bba6-9820-44cc-dd70-4d3230697a3f"
      },
      "execution_count": null,
      "outputs": [
        {
          "output_type": "stream",
          "name": "stdout",
          "text": [
            "┌───────┐\n",
            "│   k   │\n",
            "│ int32 │\n",
            "├───────┤\n",
            "│    84 │\n",
            "└───────┘\n",
            "\n"
          ]
        }
      ]
    },
    {
      "cell_type": "code",
      "source": [
        "con = duckdb.connect(database=\":memory:\", read_only=False, config={\"allow_unsigned_extensions\": \"true\"});"
      ],
      "metadata": {
        "id": "T-EOjlLosVu9"
      },
      "execution_count": null,
      "outputs": []
    },
    {
      "cell_type": "code",
      "source": [
        "duckdb.sql('select * from duckdb_extensions()')"
      ],
      "metadata": {
        "id": "HvLBoFTR6JpZ",
        "outputId": "95f604cd-0166-4bd8-8cbf-d73a58c637b4",
        "colab": {
          "base_uri": "https://localhost:8080/"
        }
      },
      "execution_count": null,
      "outputs": [
        {
          "output_type": "execute_result",
          "data": {
            "text/plain": [
              "┌──────────────────┬─────────┬───────────┬──────────────────────┬──────────────────────────────────┬───────────────────┐\n",
              "│  extension_name  │ loaded  │ installed │     install_path     │           description            │      aliases      │\n",
              "│     varchar      │ boolean │  boolean  │       varchar        │             varchar              │     varchar[]     │\n",
              "├──────────────────┼─────────┼───────────┼──────────────────────┼──────────────────────────────────┼───────────────────┤\n",
              "│ autocomplete     │ false   │ false     │                      │ Add supports for autocomplete …  │ []                │\n",
              "│ fts              │ true    │ true      │ (BUILT-IN)           │ Adds support for Full-Text Sea…  │ []                │\n",
              "│ h3               │ false   │ false     │ /root/.duckdb/exte…  │                                  │ []                │\n",
              "│ httpfs           │ true    │ true      │ /root/.duckdb/exte…  │ Adds support for reading and w…  │ [http, https, s3] │\n",
              "│ icu              │ true    │ true      │ (BUILT-IN)           │ Adds support for time zones an…  │ []                │\n",
              "│ inet             │ false   │ false     │                      │ Adds support for IP-related da…  │ []                │\n",
              "│ jemalloc         │ true    │ true      │ (BUILT-IN)           │ Overwrites system allocator wi…  │ []                │\n",
              "│ json             │ true    │ true      │ (BUILT-IN)           │ Adds support for JSON operations │ []                │\n",
              "│ motherduck       │ false   │ false     │                      │ Enables motherduck integration…  │ [md]              │\n",
              "│ parquet          │ true    │ true      │ (BUILT-IN)           │ Adds support for reading and w…  │ []                │\n",
              "│ postgres_scanner │ false   │ false     │                      │ Adds support for reading from …  │ [postgres]        │\n",
              "│ spatial          │ true    │ true      │ /root/.duckdb/exte…  │ Geospatial extension that adds…  │ []                │\n",
              "│ sqlite_scanner   │ false   │ false     │                      │ Adds support for reading SQLit…  │ [sqlite, sqlite3] │\n",
              "│ tpcds            │ true    │ true      │ (BUILT-IN)           │ Adds TPC-DS data generation an…  │ []                │\n",
              "│ tpch             │ true    │ true      │ (BUILT-IN)           │ Adds TPC-H data generation and…  │ []                │\n",
              "├──────────────────┴─────────┴───────────┴──────────────────────┴──────────────────────────────────┴───────────────────┤\n",
              "│ 15 rows                                                                                                    6 columns │\n",
              "└──────────────────────────────────────────────────────────────────────────────────────────────────────────────────────┘"
            ]
          },
          "metadata": {},
          "execution_count": 15
        }
      ]
    },
    {
      "cell_type": "code",
      "source": [
        "con.execute(\"INSTALL 'httpfs'\");\n",
        "con.execute(\"INSTALL 'spatial'\");"
      ],
      "metadata": {
        "id": "Sz5C5wLgsvTE"
      },
      "execution_count": null,
      "outputs": []
    },
    {
      "cell_type": "code",
      "source": [
        "duckdb.sql('LOAD httpfs')\n",
        "duckdb.sql('LOAD spatial')"
      ],
      "metadata": {
        "id": "eXJcHaDRufvH"
      },
      "execution_count": null,
      "outputs": []
    },
    {
      "cell_type": "code",
      "source": [
        "duckdb.sql('SELECT ST_POINT(0,0)')"
      ],
      "metadata": {
        "id": "UM_lFPQCumf2",
        "outputId": "b0b22e11-080d-472a-f392-242c6dbe1dc3",
        "colab": {
          "base_uri": "https://localhost:8080/"
        }
      },
      "execution_count": null,
      "outputs": [
        {
          "output_type": "execute_result",
          "data": {
            "text/plain": [
              "┌────────────────┐\n",
              "│ st_point(0, 0) │\n",
              "│    geometry    │\n",
              "├────────────────┤\n",
              "│ POINT (0 0)    │\n",
              "└────────────────┘"
            ]
          },
          "metadata": {},
          "execution_count": 9
        }
      ]
    },
    {
      "cell_type": "code",
      "source": [
        "!wget https://github.com/pacificspatial/flateau/raw/main/extensions/h3.duckdb_extension"
      ],
      "metadata": {
        "colab": {
          "base_uri": "https://localhost:8080/"
        },
        "id": "o5nsDu2su53u",
        "outputId": "28685dec-bc65-427b-d746-347fbba19259"
      },
      "execution_count": null,
      "outputs": [
        {
          "output_type": "stream",
          "name": "stdout",
          "text": [
            "--2023-09-15 22:15:45--  https://github.com/pacificspatial/flateau/raw/main/extensions/h3.duckdb_extension\n",
            "Resolving github.com (github.com)... 192.30.255.113\n",
            "Connecting to github.com (github.com)|192.30.255.113|:443... connected.\n",
            "HTTP request sent, awaiting response... 302 Found\n",
            "Location: https://raw.githubusercontent.com/pacificspatial/flateau/main/extensions/h3.duckdb_extension [following]\n",
            "--2023-09-15 22:15:45--  https://raw.githubusercontent.com/pacificspatial/flateau/main/extensions/h3.duckdb_extension\n",
            "Resolving raw.githubusercontent.com (raw.githubusercontent.com)... 185.199.108.133, 185.199.109.133, 185.199.111.133, ...\n",
            "Connecting to raw.githubusercontent.com (raw.githubusercontent.com)|185.199.108.133|:443... connected.\n",
            "HTTP request sent, awaiting response... 200 OK\n",
            "Length: 433760 (424K) [application/octet-stream]\n",
            "Saving to: ‘h3.duckdb_extension’\n",
            "\n",
            "h3.duckdb_extension 100%[===================>] 423.59K  --.-KB/s    in 0.02s   \n",
            "\n",
            "2023-09-15 22:15:45 (20.4 MB/s) - ‘h3.duckdb_extension’ saved [433760/433760]\n",
            "\n"
          ]
        }
      ]
    },
    {
      "cell_type": "code",
      "source": [
        "con.execute(\"INSTALL 'h3.duckdb_extension'\");"
      ],
      "metadata": {
        "id": "YQWmBqOkyYoL"
      },
      "execution_count": null,
      "outputs": []
    },
    {
      "cell_type": "code",
      "source": [
        "con.execute(\"INSTALL 'h3'\");\n"
      ],
      "metadata": {
        "id": "mvIVlG6Kz9Bu"
      },
      "execution_count": null,
      "outputs": []
    },
    {
      "cell_type": "code",
      "source": [
        "con.execute('LOAD h3;')"
      ],
      "metadata": {
        "id": "ukUcn6Pg1SW6",
        "outputId": "c93df5a1-f1dc-4a86-b4dc-e73e70a7f3fc",
        "colab": {
          "base_uri": "https://localhost:8080/",
          "height": 194
        }
      },
      "execution_count": null,
      "outputs": [
        {
          "output_type": "error",
          "ename": "IOException",
          "evalue": "ignored",
          "traceback": [
            "\u001b[0;31m---------------------------------------------------------------------------\u001b[0m",
            "\u001b[0;31mIOException\u001b[0m                               Traceback (most recent call last)",
            "\u001b[0;32m<ipython-input-16-4f9d4f2ee0fe>\u001b[0m in \u001b[0;36m<cell line: 1>\u001b[0;34m()\u001b[0m\n\u001b[0;32m----> 1\u001b[0;31m \u001b[0mcon\u001b[0m\u001b[0;34m.\u001b[0m\u001b[0mexecute\u001b[0m\u001b[0;34m(\u001b[0m\u001b[0;34m'LOAD h3;'\u001b[0m\u001b[0;34m)\u001b[0m\u001b[0;34m\u001b[0m\u001b[0;34m\u001b[0m\u001b[0m\n\u001b[0m",
            "\u001b[0;31mIOException\u001b[0m: IO Error: Extension \"/root/.duckdb/extensions/v0.8.1/linux_amd64_gcc4/h3.duckdb_extension\" could not be loaded: /root/.duckdb/extensions/v0.8.1/linux_amd64_gcc4/h3.duckdb_extension: invalid ELF header"
          ]
        }
      ]
    },
    {
      "cell_type": "code",
      "source": [],
      "metadata": {
        "id": "u4iY_Btl7qJu"
      },
      "execution_count": null,
      "outputs": []
    }
  ]
}